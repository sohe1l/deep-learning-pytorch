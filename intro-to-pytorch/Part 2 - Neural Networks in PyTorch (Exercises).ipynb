{
 "cells": [
  {
   "cell_type": "markdown",
   "metadata": {},
   "source": [
    "# Neural networks with PyTorch\n",
    "\n",
    "Deep learning networks tend to be massive with dozens or hundreds of layers, that's where the term \"deep\" comes from. You can build one of these deep networks using only weight matrices as we did in the previous notebook, but in general it's very cumbersome and difficult to implement. PyTorch has a nice module `nn` that provides a nice way to efficiently build large neural networks."
   ]
  },
  {
   "cell_type": "code",
   "execution_count": 1,
   "metadata": {},
   "outputs": [],
   "source": [
    "# Import necessary packages\n",
    "\n",
    "%matplotlib inline\n",
    "%config InlineBackend.figure_format = 'retina'\n",
    "\n",
    "import numpy as np\n",
    "import torch\n",
    "\n",
    "import helper\n",
    "\n",
    "import matplotlib.pyplot as plt"
   ]
  },
  {
   "cell_type": "markdown",
   "metadata": {},
   "source": [
    "\n",
    "Now we're going to build a larger network that can solve a (formerly) difficult problem, identifying text in an image. Here we'll use the MNIST dataset which consists of greyscale handwritten digits. Each image is 28x28 pixels, you can see a sample below\n",
    "\n",
    "<img src='assets/mnist.png'>\n",
    "\n",
    "Our goal is to build a neural network that can take one of these images and predict the digit in the image.\n",
    "\n",
    "First up, we need to get our dataset. This is provided through the `torchvision` package. The code below will download the MNIST dataset, then create training and test datasets for us. Don't worry too much about the details here, you'll learn more about this later."
   ]
  },
  {
   "cell_type": "code",
   "execution_count": 2,
   "metadata": {},
   "outputs": [],
   "source": [
    "### Run this cell\n",
    "\n",
    "from torchvision import datasets, transforms\n",
    "\n",
    "# Define a transform to normalize the data\n",
    "transform = transforms.Compose([transforms.ToTensor(),\n",
    "                              transforms.Normalize((0.5,), (0.5,)),\n",
    "                              ])\n",
    "\n",
    "# Download and load the training data\n",
    "trainset = datasets.MNIST('~/.pytorch/MNIST_data/', download=True, train=True, transform=transform)\n",
    "trainloader = torch.utils.data.DataLoader(trainset, batch_size=64, shuffle=True)"
   ]
  },
  {
   "cell_type": "markdown",
   "metadata": {},
   "source": [
    "We have the training data loaded into `trainloader` and we make that an iterator with `iter(trainloader)`. Later, we'll use this to loop through the dataset for training, like\n",
    "\n",
    "```python\n",
    "for image, label in trainloader:\n",
    "    ## do things with images and labels\n",
    "```\n",
    "\n",
    "You'll notice I created the `trainloader` with a batch size of 64, and `shuffle=True`. The batch size is the number of images we get in one iteration from the data loader and pass through our network, often called a *batch*. And `shuffle=True` tells it to shuffle the dataset every time we start going through the data loader again. But here I'm just grabbing the first batch so we can check out the data. We can see below that `images` is just a tensor with size `(64, 1, 28, 28)`. So, 64 images per batch, 1 color channel, and 28x28 images."
   ]
  },
  {
   "cell_type": "code",
   "execution_count": 3,
   "metadata": {},
   "outputs": [
    {
     "name": "stdout",
     "output_type": "stream",
     "text": [
      "tensor(-1.)\n"
     ]
    }
   ],
   "source": [
    "for image, label in trainloader:\n",
    "    print(image[63][0][27][27])\n",
    "    break"
   ]
  },
  {
   "cell_type": "code",
   "execution_count": 4,
   "metadata": {},
   "outputs": [
    {
     "name": "stdout",
     "output_type": "stream",
     "text": [
      "<class 'torch.Tensor'>\n",
      "torch.Size([64, 1, 28, 28])\n",
      "torch.Size([64])\n"
     ]
    }
   ],
   "source": [
    "dataiter = iter(trainloader)\n",
    "images, labels = dataiter.next()\n",
    "print(type(images))\n",
    "print(images.shape)\n",
    "print(labels.shape)"
   ]
  },
  {
   "cell_type": "markdown",
   "metadata": {},
   "source": [
    "This is what one of the images looks like. "
   ]
  },
  {
   "cell_type": "code",
   "execution_count": 5,
   "metadata": {},
   "outputs": [
    {
     "data": {
      "image/png": "[encoded data removed]",
      "text/plain": [
       "<Figure size 432x288 with 1 Axes>"
      ]
     },
     "metadata": {
      "image/png": {
       "height": 250,
       "width": 253
      },
      "needs_background": "light"
     },
     "output_type": "display_data"
    }
   ],
   "source": [
    "plt.imshow(images[1].numpy().squeeze(), cmap='Greys_r');"
   ]
  },
  {
   "cell_type": "markdown",
   "metadata": {},
   "source": [
    "First, let's try to build a simple network for this dataset using weight matrices and matrix multiplications. Then, we'll see how to do it using PyTorch's `nn` module which provides a much more convenient and powerful method for defining network architectures.\n",
    "\n",
    "The networks you've seen so far are called *fully-connected* or *dense* networks. Each unit in one layer is connected to each unit in the next layer. In fully-connected networks, the input to each layer must be a one-dimensional vector (which can be stacked into a 2D tensor as a batch of multiple examples). However, our images are 28x28 2D tensors, so we need to convert them into 1D vectors. Thinking about sizes, we need to convert the batch of images with shape `(64, 1, 28, 28)` to a have a shape of `(64, 784)`, 784 is 28 times 28. This is typically called *flattening*, we flattened the 2D images into 1D vectors.\n",
    "\n",
    "Previously you built a network with one output unit. Here we need 10 output units, one for each digit. We want our network to predict the digit shown in an image, so what we'll do is calculate probabilities that the image is of any one digit or class. This ends up being a discrete probability distribution over the classes (digits) that tells us the most likely class for the image. That means we need 10 output units for the 10 classes (digits). We'll see how to convert the network output into a probability distribution next.\n",
    "\n",
    "> **Exercise:** Flatten the batch of images `images`. Then build a multi-layer network with 784 input units, 256 hidden units, and 10 output units using random tensors for the weights and biases. For now, use a sigmoid activation for the hidden layer. Leave the output layer without an activation, we'll add one that gives us a probability distribution next."
   ]
  },
  {
   "cell_type": "code",
   "execution_count": 7,
   "metadata": {},
   "outputs": [
    {
     "name": "stdout",
     "output_type": "stream",
     "text": [
      "torch.Size([64, 784])\n",
      "tensor([[  4.1291,  10.2802,  18.0039,   0.0075,  -6.6110, -14.9378,   4.9974,\n",
      "          -4.2427, -20.1335,  12.3515],\n",
      "        [  6.7235,  12.9148,   3.2121,   0.4120, -13.5278,  -9.3795,   6.4279,\n",
      "         -10.1207, -19.8535,  23.3730],\n",
      "        [  6.2564,  19.5279,   8.7060, -12.1144, -13.2512, -17.5217,   9.1598,\n",
      "          -5.1515,  -9.6532,  19.3724],\n",
      "        [  1.9634,  20.9958,  -1.1962,   1.4742, -11.2584,  -7.4998,   5.3707,\n",
      "          -5.9384, -18.9570,  24.2606],\n",
      "        [  0.5366,  15.3170,   3.8107,  -1.4321, -11.9478,  -9.9863,   4.1895,\n",
      "           1.5467, -17.6931,   8.8319],\n",
      "        [ -0.2408,  24.7000,   7.4918, -16.8507, -11.0387, -13.1972,   8.0639,\n",
      "           5.2223, -23.9536,  14.2308],\n",
      "        [  0.5313,  18.2361,  -1.2995, -13.4127, -13.8073, -19.5127,   5.7345,\n",
      "          -1.4728, -15.4781,  10.6413],\n",
      "        [ -2.6862,  12.7580,  -6.0548,  -1.6790,  -2.1983,  -3.2643,  10.8109,\n",
      "          -0.7670, -14.8426,  18.8028],\n",
      "        [ -9.2344,  12.6363,  -0.2936,   7.8029, -11.2729, -10.4053,   3.2694,\n",
      "         -12.5553, -15.3844,  24.9355],\n",
      "        [  2.3339,  11.8451,  -0.0089,  -7.1192,  -4.5848,  -6.1482,   8.9215,\n",
      "          -2.0853, -14.1807,  21.7872],\n",
      "        [ -5.6693,  17.2417,   2.5961,  -1.5836, -12.4693,   4.5005,   8.0817,\n",
      "           7.1686, -19.9338,  12.6738],\n",
      "        [ -2.8090,  16.1096,   3.9453,  -7.2779, -15.6506, -10.7907,  12.5356,\n",
      "          -1.9377, -19.8204,  18.7183],\n",
      "        [  4.9129,   2.8538,  13.4123, -13.7925, -17.3950,  -5.7508,  14.9227,\n",
      "          -0.1965, -25.3729,  12.8190],\n",
      "        [ -7.2164,  -1.6772,  -5.7661,   1.3867,  -4.3218, -10.0644,   6.9137,\n",
      "          -3.1131, -15.5642,  11.7220],\n",
      "        [  3.9992,  15.9519,  11.2261, -11.8943,  -5.5538, -10.5486,  13.1078,\n",
      "          -0.9866, -15.2623,  18.8948],\n",
      "        [ -6.2077,   7.3450,   1.6505,  -6.8357, -12.0221,  -8.9181,   5.4288,\n",
      "          -0.9178, -16.3381,  14.7384],\n",
      "        [ -2.2387,   0.4688,   0.4780,   1.4859,  -6.9556, -12.5684,   4.5102,\n",
      "          -9.5983, -11.4611,  25.7911],\n",
      "        [ -0.6381,  22.5152,   5.5254,   6.8373, -12.2888, -13.8473,   3.5206,\n",
      "          -1.8721, -11.7013,  26.8937],\n",
      "        [ -7.2968,  12.1849,   0.2102,   1.7767,  -9.2757, -16.7050,   4.4552,\n",
      "           6.8830, -16.0899,  12.7389],\n",
      "        [ -7.7544,  15.5621,   0.0728,   1.1682, -14.9805, -10.9759,   4.4094,\n",
      "          -2.5638, -18.9739,  15.0412],\n",
      "        [ -8.1211,  15.9977,   0.5786, -11.9814,  -5.1462,  -8.7170,  12.9303,\n",
      "          -1.7123, -13.2019,  21.4717],\n",
      "        [  0.8935,  11.7171,   6.4664, -10.9060, -10.4958,  -6.7472,   7.7452,\n",
      "          -3.6735, -22.1901,  13.4629],\n",
      "        [ -1.1458,  16.1715,  -6.7330,  -2.7379, -11.0431,  -1.7072,   0.8937,\n",
      "          -6.9175, -16.1088,  21.4846],\n",
      "        [  6.2671,   9.0883,  -0.5652,  -3.3299, -11.7833,   2.1590,  -0.3534,\n",
      "           5.0128, -13.0235,  20.0054],\n",
      "        [ -4.8923,  13.3879,  10.0800,  -7.0210, -17.8861,  -8.5983,  10.2854,\n",
      "          -2.3686, -18.6858,  20.6372],\n",
      "        [ -5.2721,   8.0226,   6.7266,  -5.8218, -13.4194,  -5.4276,   5.1079,\n",
      "           0.2553, -11.0515,  16.4690],\n",
      "        [ -1.5763,   2.5423, -10.2551,  -3.0665, -11.5622, -10.9346,  19.3957,\n",
      "          -2.0206, -29.1925,  11.1509],\n",
      "        [ -7.6922,  18.0058,   4.5980,   1.2266, -20.8273,  -8.2601,   1.2367,\n",
      "          -4.6110, -18.4493,  23.0651],\n",
      "        [-13.2519,  19.0069,  10.3050,  -7.4229, -13.6970,  -8.4704,   5.8749,\n",
      "          -6.2260,  -9.0078,  10.1219],\n",
      "        [  1.5663,  14.5997,   9.2085,  -0.3009, -19.5082, -10.2346,  11.9379,\n",
      "         -12.8819, -20.5808,  26.0088],\n",
      "        [  3.4405,  16.6943,   2.8196, -10.5273, -15.5264, -14.5672,  12.6388,\n",
      "          -0.7236, -27.2690,  14.5140],\n",
      "        [ -2.6563,  12.2913,  -4.6424, -10.3301, -15.3790,  -9.6518,   2.9617,\n",
      "          -2.0640, -13.4846,  17.4927],\n",
      "        [  2.8504,  10.6740,  -1.6597,   1.0364,  -6.9266, -16.4514,  10.6617,\n",
      "           4.7891, -21.0099,  25.6516],\n",
      "        [ -4.5939,  15.6781,  -2.5614,   2.0664,  -6.5814,  -6.4693,  -2.8261,\n",
      "          -3.4692, -11.4925,  17.3738],\n",
      "        [  3.8124,   9.2231,   8.6887,   2.5112, -21.2880,  -4.7708,   5.3725,\n",
      "           0.8386, -25.1033,  13.8302],\n",
      "        [ -4.1113,   9.8355,   7.5983,  -6.3394, -12.1346, -13.1028,   1.4571,\n",
      "           1.1800, -17.2414,  20.3393],\n",
      "        [ -4.8068,  20.5319,  -2.2561,   0.5751, -15.1428,  -9.4464,   9.7975,\n",
      "          -7.4315, -18.7770,  18.9954],\n",
      "        [  2.3366,  16.4816,  -1.1425,   4.8577,  -6.7272,  -3.2272,   6.6133,\n",
      "           4.5096, -12.1505,  16.2430],\n",
      "        [  4.0299,  11.4514,   6.2469, -14.3238, -18.0634, -10.9819,   6.6199,\n",
      "           2.7356, -22.5409,  24.1982],\n",
      "        [ -1.8707,  16.4056,   2.1104,  10.3338, -20.2350,  -5.8664,   3.3669,\n",
      "          -5.8617, -21.5080,  26.2748],\n",
      "        [  5.8801,  17.5914,  12.1689,  -7.0565,  -2.1419,   3.3434,  11.5130,\n",
      "           3.9270,  -7.9269,  14.5231],\n",
      "        [  3.0941,  17.3287,   8.2318,  -0.1940, -10.7310,  -5.2758,   7.7392,\n",
      "          -5.4027, -26.2016,  22.1234],\n",
      "        [  3.2402,  20.6988,   8.2184, -10.6518, -16.3624, -11.6838,   5.9117,\n",
      "          -1.4375, -20.0029,  17.9648],\n",
      "        [  6.8669,  12.3410,   3.5037, -10.7265,  -7.5965,  -8.6655,   7.9998,\n",
      "           9.8240, -17.9608,  19.1326],\n",
      "        [ -2.3387,  20.9328,  -1.7174,  -8.7485, -11.7286,  -9.2656,  -2.1233,\n",
      "           2.9418, -11.0980,  15.2673],\n",
      "        [  4.5556,  14.4713,  11.3240,  -5.2582, -13.4024,   0.1831,   6.1137,\n",
      "          -6.2937, -26.4092,  11.2836],\n",
      "        [ -0.6344,  11.9679,  14.8156,  -0.9221, -12.4913,  -6.1219,  16.5305,\n",
      "           5.3477, -13.5482,  13.6663],\n",
      "        [ -3.6303,   9.5345,  -1.5446,   8.3773, -12.1249,  -9.5208,   2.0783,\n",
      "           7.2435, -24.4219,  22.6136],\n",
      "        [ -0.1330,  12.7766,   5.6396,   2.3793,  -8.2650,  -3.2623,   5.1062,\n",
      "           0.6398, -23.3351,  15.4202],\n",
      "        [  2.1844,  12.7802,   0.5716,  -4.7623,  -9.0619,  -5.6889,  20.3258,\n",
      "           3.5019,  -8.2492,  20.9653],\n",
      "        [ -0.7049,  20.9049,  -2.3811,  -8.2121, -16.3341,  -7.9079,  -2.1097,\n",
      "          -2.8729, -12.2916,  14.4446],\n",
      "        [ -5.5792,  13.3468,   2.0433,  -1.7529,  -4.7938, -11.3765,   5.8316,\n",
      "           2.3174, -25.2245,  16.2281],\n",
      "        [  1.0680,  14.2339,   1.7266, -10.4561,  -8.1950,  -3.6488,   8.3336,\n",
      "          -7.7563, -14.5863,  17.7791],\n",
      "        [ -6.2330,  15.8578,  -2.5119,  -8.2447, -15.0150,  -5.6947,   7.8007,\n",
      "          -1.4931, -27.9763,  17.8094],\n",
      "        [-11.9709,  17.7620,   1.8947,   5.9548,  -4.6741,  -9.5758,   0.4434,\n",
      "          -2.9380, -10.9556,  19.8979],\n",
      "        [  4.7527,  15.8136,  -2.9869,   4.8327, -10.2463, -23.9692,   2.8631,\n",
      "          -7.1527, -19.4121,  21.9312],\n",
      "        [ -1.0765,  14.8817,   7.7617,   0.1381,  -9.5352,  -6.6679,  20.1958,\n",
      "           3.9723, -25.3360,  17.4056],\n",
      "        [  2.7506,  15.7782,  10.1881,  -3.5519,  -6.8551,  -8.1459,   1.2460,\n",
      "          -1.4589, -27.4517,  19.5146],\n",
      "        [ -4.6830,  11.5182,  -2.8033,  -4.0527, -15.9994,  -8.3972,  14.1569,\n",
      "          -4.6020, -21.3241,  14.1517],\n",
      "        [  3.9852,  14.6653,   5.6495,  -5.8713, -10.9898,  -8.4823,   8.5210,\n",
      "          -8.2167, -12.0257,  17.9191],\n",
      "        [ -1.5208,  22.4412,   8.6969, -10.0365, -14.1137, -15.6522,   8.8666,\n",
      "          -7.3792, -21.1097,   7.3740],\n",
      "        [ -1.9131,   1.1252,   3.2874,  -2.0011, -11.8024,  -7.6518,  12.9939,\n",
      "          -1.0725, -16.3401,  13.3368],\n",
      "        [  2.6204,  22.5335,  12.7548,   3.3063, -14.6179,  -6.8232,   1.4484,\n",
      "          -4.2993, -21.9516,  18.5349],\n",
      "        [ -9.9705,  15.4215,   0.8769,  -7.9065, -12.8645, -11.2045,   7.1168,\n",
      "          -1.3652, -22.1934,  22.0128]])\n"
     ]
    }
   ],
   "source": [
    "## Your solution\n",
    "\n",
    "def activation(x):\n",
    "    return 1/(1+torch.exp(-x))\n",
    "\n",
    "#flatten = images[1].view(784,1)\n",
    "\n",
    "flatten = images.view(images.shape[0], -1)\n",
    "\n",
    "print(flatten.shape)\n",
    "\n",
    "\n",
    "# weights for inputs to hidden\n",
    "W1 = torch.randn(784, 256)\n",
    "\n",
    "# weights for hidden to output\n",
    "W2 = torch.randn(256,10)\n",
    "\n",
    "\n",
    "## bias for hidden and output\n",
    "B1 = torch.randn((256))\n",
    "B2 = torch.randn((10))\n",
    "\n",
    "\n",
    "\n",
    "hidden = activation( torch.mm(flatten, W1) + B1 )\n",
    "\n",
    "out = torch.mm(hidden, W2) + B2 \n",
    "\n",
    "print(out)"
   ]
  },
  {
   "cell_type": "markdown",
   "metadata": {},
   "source": [
    "Now we have 10 outputs for our network. We want to pass in an image to our network and get out a probability distribution over the classes that tells us the likely class(es) the image belongs to. Something that looks like this:\n",
    "<img src='assets/image_distribution.png' width=500px>\n",
    "\n",
    "Here we see that the probability for each class is roughly the same. This is representing an untrained network, it hasn't seen any data yet so it just returns a uniform distribution with equal probabilities for each class.\n",
    "\n",
    "To calculate this probability distribution, we often use the [**softmax** function](https://en.wikipedia.org/wiki/Softmax_function). Mathematically this looks like\n",
    "\n",
    "$$\n",
    "\\Large \\sigma(x_i) = \\cfrac{e^{x_i}}{\\sum_k^K{e^{x_k}}}\n",
    "$$\n",
    "\n",
    "What this does is squish each input $x_i$ between 0 and 1 and normalizes the values to give you a proper probability distribution where the probabilites sum up to one.\n",
    "\n",
    "> **Exercise:** Implement a function `softmax` that performs the softmax calculation and returns probability distributions for each example in the batch. Note that you'll need to pay attention to the shapes when doing this. If you have a tensor `a` with shape `(64, 10)` and a tensor `b` with shape `(64,)`, doing `a/b` will give you an error because PyTorch will try to do the division across the columns (called broadcasting) but you'll get a size mismatch. The way to think about this is for each of the 64 examples, you only want to divide by one value, the sum in the denominator. So you need `b` to have a shape of `(64, 1)`. This way PyTorch will divide the 10 values in each row of `a` by the one value in each row of `b`. Pay attention to how you take the sum as well. You'll need to define the `dim` keyword in `torch.sum`. Setting `dim=0` takes the sum across the rows while `dim=1` takes the sum across the columns."
   ]
  },
  {
   "cell_type": "code",
   "execution_count": 14,
   "metadata": {},
   "outputs": [
    {
     "name": "stdout",
     "output_type": "stream",
     "text": [
      "torch.Size([64, 10])\n",
      "tensor([1.0000, 1.0000, 1.0000, 1.0000, 1.0000, 1.0000, 1.0000, 1.0000, 1.0000,\n",
      "        1.0000, 1.0000, 1.0000, 1.0000, 1.0000, 1.0000, 1.0000, 1.0000, 1.0000,\n",
      "        1.0000, 1.0000, 1.0000, 1.0000, 1.0000, 1.0000, 1.0000, 1.0000, 1.0000,\n",
      "        1.0000, 1.0000, 1.0000, 1.0000, 1.0000, 1.0000, 1.0000, 1.0000, 1.0000,\n",
      "        1.0000, 1.0000, 1.0000, 1.0000, 1.0000, 1.0000, 1.0000, 1.0000, 1.0000,\n",
      "        1.0000, 1.0000, 1.0000, 1.0000, 1.0000, 1.0000, 1.0000, 1.0000, 1.0000,\n",
      "        1.0000, 1.0000, 1.0000, 1.0000, 1.0000, 1.0000, 1.0000, 1.0000, 1.0000,\n",
      "        1.0000])\n"
     ]
    }
   ],
   "source": [
    "def softmax(x):\n",
    "    ## TODO: Implement the softmax function here\n",
    "    sum = torch.sum(torch.exp(x), dim = 1).view(-1, 1)\n",
    "    return torch.exp(x) / sum\n",
    "\n",
    "# Here, out should be the output of the network in the previous excercise with shape (64,10)\n",
    "probabilities = softmax(out)\n",
    "\n",
    "# Does it have the right shape? Should be (64, 10)\n",
    "print(probabilities.shape)\n",
    "# Does it sum to 1?\n",
    "print(probabilities.sum(dim=1))"
   ]
  },
  {
   "cell_type": "markdown",
   "metadata": {},
   "source": [
    "## Building networks with PyTorch\n",
    "\n",
    "PyTorch provides a module `nn` that makes building networks much simpler. Here I'll show you how to build the same one as above with 784 inputs, 256 hidden units, 10 output units and a softmax output."
   ]
  },
  {
   "cell_type": "code",
   "execution_count": 15,
   "metadata": {},
   "outputs": [],
   "source": [
    "from torch import nn"
   ]
  },
  {
   "cell_type": "code",
   "execution_count": 16,
   "metadata": {},
   "outputs": [],
   "source": [
    "class Network(nn.Module):\n",
    "    def __init__(self):\n",
    "        super().__init__()\n",
    "        \n",
    "        # Inputs to hidden layer linear transformation\n",
    "        self.hidden = nn.Linear(784, 256)\n",
    "        # Output layer, 10 units - one for each digit\n",
    "        self.output = nn.Linear(256, 10)\n",
    "        \n",
    "        # Define sigmoid activation and softmax output \n",
    "        self.sigmoid = nn.Sigmoid()\n",
    "        self.softmax = nn.Softmax(dim=1)\n",
    "        \n",
    "    def forward(self, x):\n",
    "        # Pass the input tensor through each of our operations\n",
    "        x = self.hidden(x)\n",
    "        x = self.sigmoid(x)\n",
    "        x = self.output(x)\n",
    "        x = self.softmax(x)\n",
    "        \n",
    "        return x"
   ]
  },
  {
   "cell_type": "markdown",
   "metadata": {},
   "source": [
    "Let's go through this bit by bit.\n",
    "\n",
    "```python\n",
    "class Network(nn.Module):\n",
    "```\n",
    "\n",
    "Here we're inheriting from `nn.Module`. Combined with `super().__init__()` this creates a class that tracks the architecture and provides a lot of useful methods and attributes. It is mandatory to inherit from `nn.Module` when you're creating a class for your network. The name of the class itself can be anything.\n",
    "\n",
    "```python\n",
    "self.hidden = nn.Linear(784, 256)\n",
    "```\n",
    "\n",
    "This line creates a module for a linear transformation, $x\\mathbf{W} + b$, with 784 inputs and 256 outputs and assigns it to `self.hidden`. The module automatically creates the weight and bias tensors which we'll use in the `forward` method. You can access the weight and bias tensors once the network (`net`) is created with `net.hidden.weight` and `net.hidden.bias`.\n",
    "\n",
    "```python\n",
    "self.output = nn.Linear(256, 10)\n",
    "```\n",
    "\n",
    "Similarly, this creates another linear transformation with 256 inputs and 10 outputs.\n",
    "\n",
    "```python\n",
    "self.sigmoid = nn.Sigmoid()\n",
    "self.softmax = nn.Softmax(dim=1)\n",
    "```\n",
    "\n",
    "Here I defined operations for the sigmoid activation and softmax output. Setting `dim=1` in `nn.Softmax(dim=1)` calculates softmax across the columns.\n",
    "\n",
    "```python\n",
    "def forward(self, x):\n",
    "```\n",
    "\n",
    "PyTorch networks created with `nn.Module` must have a `forward` method defined. It takes in a tensor `x` and passes it through the operations you defined in the `__init__` method.\n",
    "\n",
    "```python\n",
    "x = self.hidden(x)\n",
    "x = self.sigmoid(x)\n",
    "x = self.output(x)\n",
    "x = self.softmax(x)\n",
    "```\n",
    "\n",
    "Here the input tensor `x` is passed through each operation a reassigned to `x`. We can see that the input tensor goes through the hidden layer, then a sigmoid function, then the output layer, and finally the softmax function. It doesn't matter what you name the variables here, as long as the inputs and outputs of the operations match the network architecture you want to build. The order in which you define things in the `__init__` method doesn't matter, but you'll need to sequence the operations correctly in the `forward` method.\n",
    "\n",
    "Now we can create a `Network` object."
   ]
  },
  {
   "cell_type": "code",
   "execution_count": 17,
   "metadata": {},
   "outputs": [
    {
     "data": {
      "text/plain": [
       "Network(\n",
       "  (hidden): Linear(in_features=784, out_features=256, bias=True)\n",
       "  (output): Linear(in_features=256, out_features=10, bias=True)\n",
       "  (sigmoid): Sigmoid()\n",
       "  (softmax): Softmax()\n",
       ")"
      ]
     },
     "execution_count": 17,
     "metadata": {},
     "output_type": "execute_result"
    }
   ],
   "source": [
    "# Create the network and look at it's text representation\n",
    "model = Network()\n",
    "model"
   ]
  },
  {
   "cell_type": "markdown",
   "metadata": {},
   "source": [
    "You can define the network somewhat more concisely and clearly using the `torch.nn.functional` module. This is the most common way you'll see networks defined as many operations are simple element-wise functions. We normally import this module as `F`, `import torch.nn.functional as F`."
   ]
  },
  {
   "cell_type": "code",
   "execution_count": 18,
   "metadata": {},
   "outputs": [],
   "source": [
    "import torch.nn.functional as F\n",
    "\n",
    "class Network(nn.Module):\n",
    "    def __init__(self):\n",
    "        super().__init__()\n",
    "        # Inputs to hidden layer linear transformation\n",
    "        self.hidden = nn.Linear(784, 256)\n",
    "        # Output layer, 10 units - one for each digit\n",
    "        self.output = nn.Linear(256, 10)\n",
    "        \n",
    "    def forward(self, x):\n",
    "        # Hidden layer with sigmoid activation\n",
    "        x = F.sigmoid(self.hidden(x))\n",
    "        # Output layer with softmax activation\n",
    "        x = F.softmax(self.output(x), dim=1)\n",
    "        \n",
    "        return x"
   ]
  },
  {
   "cell_type": "markdown",
   "metadata": {},
   "source": [
    "### Activation functions\n",
    "\n",
    "So far we've only been looking at the softmax activation, but in general any function can be used as an activation function. The only requirement is that for a network to approximate a non-linear function, the activation functions must be non-linear. Here are a few more examples of common activation functions: Tanh (hyperbolic tangent), and ReLU (rectified linear unit).\n",
    "\n",
    "<img src=\"assets/activation.png\" width=700px>\n",
    "\n",
    "In practice, the ReLU function is used almost exclusively as the activation function for hidden layers."
   ]
  },
  {
   "cell_type": "markdown",
   "metadata": {},
   "source": [
    "### Your Turn to Build a Network\n",
    "\n",
    "<img src=\"assets/mlp_mnist.png\" width=600px>\n",
    "\n",
    "> **Exercise:** Create a network with 784 input units, a hidden layer with 128 units and a ReLU activation, then a hidden layer with 64 units and a ReLU activation, and finally an output layer with a softmax activation as shown above. You can use a ReLU activation with the `nn.ReLU` module or `F.relu` function."
   ]
  },
  {
   "cell_type": "code",
   "execution_count": 27,
   "metadata": {
    "scrolled": true
   },
   "outputs": [
    {
     "data": {
      "text/plain": [
       "Network(\n",
       "  (hidden1): Linear(in_features=784, out_features=128, bias=True)\n",
       "  (hidden2): Linear(in_features=128, out_features=64, bias=True)\n",
       "  (output): Linear(in_features=64, out_features=10, bias=True)\n",
       ")"
      ]
     },
     "execution_count": 27,
     "metadata": {},
     "output_type": "execute_result"
    }
   ],
   "source": [
    "## Your solution here\n",
    "\n",
    "import torch.nn.functional as F\n",
    "\n",
    "class Network(nn.Module):\n",
    "    def __init__(self):\n",
    "        super().__init__()\n",
    "\n",
    "        self.hidden1 = nn.Linear(784, 128)\n",
    "        self.hidden2 = nn.Linear(128, 64)\n",
    "        self.output = nn.Linear(64, 10)\n",
    "        \n",
    "    def forward(self, x):\n",
    "        x = F.relu(self.hidden1(x))\n",
    "        x = F.relu(self.hidden2(x))\n",
    "        x = F.softmax(self.output(x), dim=1)\n",
    "        return x\n",
    "\n",
    "model = Network()\n",
    "model"
   ]
  },
  {
   "cell_type": "markdown",
   "metadata": {},
   "source": [
    "### Initializing weights and biases\n",
    "\n",
    "The weights and such are automatically initialized for you, but it's possible to customize how they are initialized. The weights and biases are tensors attached to the layer you defined, you can get them with `model.fc1.weight` for instance."
   ]
  },
  {
   "cell_type": "code",
   "execution_count": 28,
   "metadata": {
    "scrolled": true
   },
   "outputs": [
    {
     "name": "stdout",
     "output_type": "stream",
     "text": [
      "Parameter containing:\n",
      "tensor([[-0.0343, -0.0151, -0.0198,  ...,  0.0224,  0.0320,  0.0303],\n",
      "        [ 0.0240,  0.0220, -0.0195,  ...,  0.0040, -0.0349,  0.0022],\n",
      "        [-0.0007,  0.0001,  0.0309,  ...,  0.0019, -0.0064, -0.0219],\n",
      "        ...,\n",
      "        [-0.0022, -0.0075, -0.0258,  ...,  0.0305,  0.0110,  0.0354],\n",
      "        [ 0.0278,  0.0190, -0.0194,  ...,  0.0108, -0.0093,  0.0151],\n",
      "        [ 0.0293,  0.0337,  0.0280,  ...,  0.0088, -0.0038,  0.0062]],\n",
      "       requires_grad=True)\n",
      "Parameter containing:\n",
      "tensor([ 0.0231, -0.0012,  0.0308,  0.0014, -0.0040, -0.0221, -0.0134, -0.0352,\n",
      "        -0.0184, -0.0111, -0.0266,  0.0232, -0.0339, -0.0022, -0.0078,  0.0216,\n",
      "         0.0015, -0.0176, -0.0217, -0.0194,  0.0081, -0.0321, -0.0041,  0.0035,\n",
      "        -0.0338,  0.0002,  0.0217, -0.0092, -0.0280,  0.0251, -0.0355, -0.0041,\n",
      "        -0.0292,  0.0063, -0.0177,  0.0270,  0.0167,  0.0241, -0.0349,  0.0330,\n",
      "         0.0237, -0.0201, -0.0102, -0.0240, -0.0287,  0.0255, -0.0093,  0.0306,\n",
      "         0.0216,  0.0198,  0.0157,  0.0290,  0.0250,  0.0232,  0.0272,  0.0144,\n",
      "         0.0264,  0.0239,  0.0217,  0.0288,  0.0239,  0.0024, -0.0231, -0.0015,\n",
      "         0.0344, -0.0164,  0.0333, -0.0022, -0.0134, -0.0027, -0.0073,  0.0069,\n",
      "         0.0030,  0.0042, -0.0199, -0.0244,  0.0277, -0.0066, -0.0240,  0.0312,\n",
      "        -0.0078,  0.0138, -0.0318,  0.0033,  0.0246, -0.0302, -0.0162, -0.0236,\n",
      "         0.0248, -0.0047,  0.0161, -0.0205,  0.0216,  0.0147, -0.0093,  0.0228,\n",
      "        -0.0174, -0.0101,  0.0074,  0.0067, -0.0183,  0.0202, -0.0249,  0.0213,\n",
      "         0.0232, -0.0319, -0.0188, -0.0284,  0.0038, -0.0080, -0.0058,  0.0150,\n",
      "        -0.0062,  0.0228,  0.0228,  0.0004,  0.0073,  0.0054,  0.0303, -0.0346,\n",
      "        -0.0193,  0.0054,  0.0319,  0.0163, -0.0009, -0.0018, -0.0319,  0.0268],\n",
      "       requires_grad=True)\n"
     ]
    }
   ],
   "source": [
    "print(model.hidden1.weight)\n",
    "print(model.hidden1.bias)"
   ]
  },
  {
   "cell_type": "markdown",
   "metadata": {},
   "source": [
    "For custom initialization, we want to modify these tensors in place. These are actually autograd *Variables*, so we need to get back the actual tensors with `model.fc1.weight.data`. Once we have the tensors, we can fill them with zeros (for biases) or random normal values."
   ]
  },
  {
   "cell_type": "code",
   "execution_count": 30,
   "metadata": {},
   "outputs": [
    {
     "data": {
      "text/plain": [
       "tensor([0., 0., 0., 0., 0., 0., 0., 0., 0., 0., 0., 0., 0., 0., 0., 0., 0., 0.,\n",
       "        0., 0., 0., 0., 0., 0., 0., 0., 0., 0., 0., 0., 0., 0., 0., 0., 0., 0.,\n",
       "        0., 0., 0., 0., 0., 0., 0., 0., 0., 0., 0., 0., 0., 0., 0., 0., 0., 0.,\n",
       "        0., 0., 0., 0., 0., 0., 0., 0., 0., 0., 0., 0., 0., 0., 0., 0., 0., 0.,\n",
       "        0., 0., 0., 0., 0., 0., 0., 0., 0., 0., 0., 0., 0., 0., 0., 0., 0., 0.,\n",
       "        0., 0., 0., 0., 0., 0., 0., 0., 0., 0., 0., 0., 0., 0., 0., 0., 0., 0.,\n",
       "        0., 0., 0., 0., 0., 0., 0., 0., 0., 0., 0., 0., 0., 0., 0., 0., 0., 0.,\n",
       "        0., 0.])"
      ]
     },
     "execution_count": 30,
     "metadata": {},
     "output_type": "execute_result"
    }
   ],
   "source": [
    "# Set biases to all zeros\n",
    "model.hidden1.bias.data.fill_(0)"
   ]
  },
  {
   "cell_type": "code",
   "execution_count": 31,
   "metadata": {},
   "outputs": [
    {
     "data": {
      "text/plain": [
       "tensor([[-0.0108,  0.0084, -0.0094,  ...,  0.0227,  0.0087,  0.0083],\n",
       "        [ 0.0076,  0.0132, -0.0094,  ..., -0.0107, -0.0098, -0.0104],\n",
       "        [-0.0050,  0.0183,  0.0045,  ...,  0.0123,  0.0047,  0.0122],\n",
       "        ...,\n",
       "        [ 0.0093, -0.0029,  0.0149,  ...,  0.0122, -0.0168,  0.0019],\n",
       "        [ 0.0119,  0.0004, -0.0090,  ..., -0.0013,  0.0034,  0.0091],\n",
       "        [-0.0016,  0.0070,  0.0094,  ...,  0.0259,  0.0013,  0.0050]])"
      ]
     },
     "execution_count": 31,
     "metadata": {},
     "output_type": "execute_result"
    }
   ],
   "source": [
    "# sample from random normal with standard dev = 0.01\n",
    "model.hidden1.weight.data.normal_(std=0.01)"
   ]
  },
  {
   "cell_type": "markdown",
   "metadata": {},
   "source": [
    "### Forward pass\n",
    "\n",
    "Now that we have a network, let's see what happens when we pass in an image."
   ]
  },
  {
   "cell_type": "code",
   "execution_count": 38,
   "metadata": {},
   "outputs": [
    {
     "data": {
      "image/png": "[encoded data removed]",
      "text/plain": [
       "<Figure size 432x648 with 2 Axes>"
      ]
     },
     "metadata": {
      "image/png": {
       "height": 224,
       "width": 423
      },
      "needs_background": "light"
     },
     "output_type": "display_data"
    }
   ],
   "source": [
    "# Grab some data \n",
    "dataiter = iter(trainloader)\n",
    "images, labels = dataiter.next()\n",
    "\n",
    "# Resize images into a 1D vector, new shape is (batch size, color channels, image pixels) \n",
    "images.resize_(64, 1, 784)\n",
    "# or images.resize_(images.shape[0], 1, 784) to automatically get batch size\n",
    "\n",
    "# Forward pass through the network\n",
    "img_idx = 0\n",
    "ps = model.forward(images[img_idx,:])\n",
    "\n",
    "img = images[img_idx]\n",
    "helper.view_classify(img.view(1, 28, 28), ps)"
   ]
  },
  {
   "cell_type": "markdown",
   "metadata": {},
   "source": [
    "As you can see above, our network has basically no idea what this digit is. It's because we haven't trained it yet, all the weights are random!\n",
    "\n",
    "### Using `nn.Sequential`\n",
    "\n",
    "PyTorch provides a convenient way to build networks like this where a tensor is passed sequentially through operations, `nn.Sequential` ([documentation](https://pytorch.org/docs/master/nn.html#torch.nn.Sequential)). Using this to build the equivalent network:"
   ]
  },
  {
   "cell_type": "code",
   "execution_count": 39,
   "metadata": {},
   "outputs": [
    {
     "name": "stdout",
     "output_type": "stream",
     "text": [
      "Sequential(\n",
      "  (0): Linear(in_features=784, out_features=128, bias=True)\n",
      "  (1): ReLU()\n",
      "  (2): Linear(in_features=128, out_features=64, bias=True)\n",
      "  (3): ReLU()\n",
      "  (4): Linear(in_features=64, out_features=10, bias=True)\n",
      "  (5): Softmax()\n",
      ")\n"
     ]
    },
    {
     "data": {
      "image/png": "[encoded data removed]",
      "text/plain": [
       "<Figure size 432x648 with 2 Axes>"
      ]
     },
     "metadata": {
      "image/png": {
       "height": 224,
       "width": 423
      },
      "needs_background": "light"
     },
     "output_type": "display_data"
    }
   ],
   "source": [
    "# Hyperparameters for our network\n",
    "input_size = 784\n",
    "hidden_sizes = [128, 64]\n",
    "output_size = 10\n",
    "\n",
    "# Build a feed-forward network\n",
    "model = nn.Sequential(nn.Linear(input_size, hidden_sizes[0]),\n",
    "                      nn.ReLU(),\n",
    "                      nn.Linear(hidden_sizes[0], hidden_sizes[1]),\n",
    "                      nn.ReLU(),\n",
    "                      nn.Linear(hidden_sizes[1], output_size),\n",
    "                      nn.Softmax(dim=1))\n",
    "print(model)\n",
    "\n",
    "# Forward pass through the network and display output\n",
    "images, labels = next(iter(trainloader))\n",
    "images.resize_(images.shape[0], 1, 784)\n",
    "ps = model.forward(images[0,:])\n",
    "helper.view_classify(images[0].view(1, 28, 28), ps)"
   ]
  },
  {
   "cell_type": "markdown",
   "metadata": {},
   "source": [
    "Here our model is the same as before: 784 input units, a hidden layer with 128 units, ReLU activation, 64 unit hidden layer, another ReLU, then the output layer with 10 units, and the softmax output.\n",
    "\n",
    "The operations are availble by passing in the appropriate index. For example, if you want to get first Linear operation and look at the weights, you'd use `model[0]`."
   ]
  },
  {
   "cell_type": "code",
   "execution_count": null,
   "metadata": {
    "collapsed": true
   },
   "outputs": [],
   "source": [
    "print(model[0])\n",
    "model[0].weight"
   ]
  },
  {
   "cell_type": "markdown",
   "metadata": {},
   "source": [
    "You can also pass in an `OrderedDict` to name the individual layers and operations, instead of using incremental integers. Note that dictionary keys must be unique, so _each operation must have a different name_."
   ]
  },
  {
   "cell_type": "code",
   "execution_count": null,
   "metadata": {
    "collapsed": true
   },
   "outputs": [],
   "source": [
    "from collections import OrderedDict\n",
    "model = nn.Sequential(OrderedDict([\n",
    "                      ('fc1', nn.Linear(input_size, hidden_sizes[0])),\n",
    "                      ('relu1', nn.ReLU()),\n",
    "                      ('fc2', nn.Linear(hidden_sizes[0], hidden_sizes[1])),\n",
    "                      ('relu2', nn.ReLU()),\n",
    "                      ('output', nn.Linear(hidden_sizes[1], output_size)),\n",
    "                      ('softmax', nn.Softmax(dim=1))]))\n",
    "model"
   ]
  },
  {
   "cell_type": "markdown",
   "metadata": {},
   "source": [
    "Now you can access layers either by integer or the name"
   ]
  },
  {
   "cell_type": "code",
   "execution_count": null,
   "metadata": {
    "collapsed": true
   },
   "outputs": [],
   "source": [
    "print(model[0])\n",
    "print(model.fc1)"
   ]
  },
  {
   "cell_type": "markdown",
   "metadata": {},
   "source": [
    "In the next notebook, we'll see how we can train a neural network to accuractly predict the numbers appearing in the MNIST images."
   ]
  }
 ],
 "metadata": {
  "kernelspec": {
   "display_name": "Python 3",
   "language": "python",
   "name": "python3"
  },
  "language_info": {
   "codemirror_mode": {
    "name": "ipython",
    "version": 3
   },
   "file_extension": ".py",
   "mimetype": "text/x-python",
   "name": "python",
   "nbconvert_exporter": "python",
   "pygments_lexer": "ipython3",
   "version": "3.7.0"
  }
 },
 "nbformat": 4,
 "nbformat_minor": 2
}
